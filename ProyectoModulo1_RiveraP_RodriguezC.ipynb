{
 "cells": [
  {
   "cell_type": "markdown",
   "metadata": {},
   "source": []
  },
  {
   "cell_type": "code",
   "execution_count": 5,
   "metadata": {},
   "outputs": [
    {
     "data": {
      "text/plain": [
       "     con: array([0., 0., 0.])\n",
       "     fun: 11875.0\n",
       " message: 'Optimization terminated successfully.'\n",
       "     nit: 7\n",
       "   slack: array([  0. ,   0. , 137.5])\n",
       "  status: 0\n",
       " success: True\n",
       "       x: array([3750., 5000., 3750., 1250.,    0., 1250.])"
      ]
     },
     "execution_count": 5,
     "metadata": {},
     "output_type": "execute_result"
    }
   ],
   "source": [
    "import numpy as np\n",
    "import scipy.optimize as opt\n",
    "\n",
    "# Función objetivo\n",
    "c=np.array([0.75,0.4,1.1,0.95,0.55,1.4])\n",
    "\n",
    "# Restricciones\n",
    "A=np.array([[0.03,0.02,0.05,0,0,0],[0.04,0.02,0.04,0,0,0],[0.02,0.03,0.01,0,0,0]])\n",
    "b=np.array([400,400,400])\n",
    "\n",
    "# Restricciones de igualdad\n",
    "Ae=np.array([[1,0,0,1,0,0],[0,1,0,0,1,0],[0,0,1,0,0,1]])\n",
    "be=np.array([5000,5000,5000])\n",
    "\n",
    "# Solución\n",
    "r=opt.linprog(c,A,b,A_eq=Ae,b_eq=be,method='simplex')\n",
    "r"
   ]
  },
  {
   "cell_type": "code",
   "execution_count": null,
   "metadata": {},
   "outputs": [],
   "source": []
  }
 ],
 "metadata": {
  "kernelspec": {
   "display_name": "Python 3",
   "language": "python",
   "name": "python3"
  },
  "language_info": {
   "codemirror_mode": {
    "name": "ipython",
    "version": 3
   },
   "file_extension": ".py",
   "mimetype": "text/x-python",
   "name": "python",
   "nbconvert_exporter": "python",
   "pygments_lexer": "ipython3",
   "version": "3.7.3"
  }
 },
 "nbformat": 4,
 "nbformat_minor": 2
}
